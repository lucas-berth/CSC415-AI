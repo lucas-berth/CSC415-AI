{
 "cells": [
  {
   "cell_type": "code",
   "execution_count": 1,
   "metadata": {},
   "outputs": [],
   "source": [
    "from collections import defaultdict"
   ]
  },
  {
   "cell_type": "code",
   "execution_count": 2,
   "metadata": {},
   "outputs": [],
   "source": [
    "graph = {\n",
    "    'A' : ['B', 'C'],\n",
    "    'B' : ['D', 'E'],\n",
    "    'C' : ['F', 'H'],\n",
    "    'D' : ['I', 'J'],\n",
    "    'E' : ['G1', 'K'],\n",
    "    'F' : ['L', 'M'],\n",
    "    'H' : ['N', 'G2'],\n",
    "    'I' : [],\n",
    "    'J' : [],\n",
    "    'K' : [],\n",
    "    'L' : [],\n",
    "    'M' : [],\n",
    "    'N' : [],\n",
    "    'G1' : [],\n",
    "    'G2' : []}\n",
    "        "
   ]
  },
  {
   "cell_type": "code",
   "execution_count": 26,
   "metadata": {},
   "outputs": [],
   "source": [
    "#more complicated version tried. Does not work really.\n",
    "def depthFirst(graph, initial, end):\n",
    "    current_node = initial\n",
    "    closed = []\n",
    "    open = []\n",
    "    children = []\n",
    "\n",
    "    open.append(initial)\n",
    "    current_node = open[0]\n",
    "\n",
    "    while current_node != end:\n",
    "        if len(open) > 0:\n",
    "            current_node = open[-1]\n",
    "            print(\"something\", closed)\n",
    "        \n",
    "        elif len(open) == 0:\n",
    "            print(\"wrong\", closed )\n",
    "            return \n",
    "        closed.append(current_node)\n",
    "        open.remove(current_node)\n",
    "        #\n",
    "        children = []\n",
    "        children = graph.edges[current_node]\n",
    "\n",
    "        for i in range(len(children[-1])):\n",
    "            if children[i] in closed:\n",
    "               children.remove(children[i])\n",
    "            elif children[i] in open:\n",
    "                children.remove(children[i])\n",
    "            else:\n",
    "                open.extend(children)\n",
    "\n",
    "        if current_node == end:\n",
    "            print(\"success! destination found\", closed)\n",
    "\n",
    "graph = Graph()\n",
    "\n",
    "\n"
   ]
  },
  {
   "cell_type": "code",
   "execution_count": null,
   "metadata": {},
   "outputs": [],
   "source": [
    "depthFirst(graph, 'A', 'F')\n",
    "#does not work "
   ]
  },
  {
   "cell_type": "code",
   "execution_count": 10,
   "metadata": {},
   "outputs": [],
   "source": [
    "#source found that makes the algo easy LINK = https://www.educative.io/answers/how-to-implement-depth-first-search-in-python\n",
    "#tried to add my own logic to make it end after getting to a certain destination "
   ]
  },
  {
   "cell_type": "code",
   "execution_count": 14,
   "metadata": {},
   "outputs": [],
   "source": [
    "visited = set() # Set to keep track of visited nodes.\n",
    "\n",
    "def dfs(visited, graph, node, goal):\n",
    "    #tried a while loop here to see if visited was equal to goal\n",
    "        if node not in visited:\n",
    "            print (node)\n",
    "            visited.add(node)\n",
    "            for neighbour in graph[node]:\n",
    "                dfs(visited, graph, neighbour)\n",
    "        elif visited == goal:\n",
    "            print(\"success!!!\")"
   ]
  },
  {
   "cell_type": "code",
   "execution_count": 15,
   "metadata": {},
   "outputs": [
    {
     "name": "stdout",
     "output_type": "stream",
     "text": [
      "A\n"
     ]
    },
    {
     "ename": "TypeError",
     "evalue": "dfs() missing 1 required positional argument: 'goal'",
     "output_type": "error",
     "traceback": [
      "\u001b[0;31m---------------------------------------------------------------------------\u001b[0m",
      "\u001b[0;31mTypeError\u001b[0m                                 Traceback (most recent call last)",
      "Cell \u001b[0;32mIn [15], line 1\u001b[0m\n\u001b[0;32m----> 1\u001b[0m \u001b[43mdfs\u001b[49m\u001b[43m(\u001b[49m\u001b[43mvisited\u001b[49m\u001b[43m,\u001b[49m\u001b[43m \u001b[49m\u001b[43mgraph\u001b[49m\u001b[43m,\u001b[49m\u001b[43m \u001b[49m\u001b[38;5;124;43m'\u001b[39;49m\u001b[38;5;124;43mA\u001b[39;49m\u001b[38;5;124;43m'\u001b[39;49m\u001b[43m,\u001b[49m\u001b[43m \u001b[49m\u001b[38;5;124;43m'\u001b[39;49m\u001b[38;5;124;43mF\u001b[39;49m\u001b[38;5;124;43m'\u001b[39;49m\u001b[43m)\u001b[49m\n",
      "Cell \u001b[0;32mIn [14], line 9\u001b[0m, in \u001b[0;36mdfs\u001b[0;34m(visited, graph, node, goal)\u001b[0m\n\u001b[1;32m      7\u001b[0m     visited\u001b[38;5;241m.\u001b[39madd(node)\n\u001b[1;32m      8\u001b[0m     \u001b[38;5;28;01mfor\u001b[39;00m neighbour \u001b[38;5;129;01min\u001b[39;00m graph[node]:\n\u001b[0;32m----> 9\u001b[0m         \u001b[43mdfs\u001b[49m\u001b[43m(\u001b[49m\u001b[43mvisited\u001b[49m\u001b[43m,\u001b[49m\u001b[43m \u001b[49m\u001b[43mgraph\u001b[49m\u001b[43m,\u001b[49m\u001b[43m \u001b[49m\u001b[43mneighbour\u001b[49m\u001b[43m)\u001b[49m\n\u001b[1;32m     10\u001b[0m \u001b[38;5;28;01melif\u001b[39;00m visited \u001b[38;5;241m==\u001b[39m goal:\n\u001b[1;32m     11\u001b[0m     \u001b[38;5;28mprint\u001b[39m(\u001b[38;5;124m\"\u001b[39m\u001b[38;5;124msuccess!!!\u001b[39m\u001b[38;5;124m\"\u001b[39m)\n",
      "\u001b[0;31mTypeError\u001b[0m: dfs() missing 1 required positional argument: 'goal'"
     ]
    }
   ],
   "source": [
    "dfs(visited, graph, 'A', 'F')"
   ]
  },
  {
   "cell_type": "code",
   "execution_count": 16,
   "metadata": {},
   "outputs": [],
   "source": [
    "#overall wish I was more versed into Python and knew more of the built in functions and methods.\n",
    "#I understand the logic behind what to do, just not exactly how to get that into code which is obviously the goal\n",
    "#I hope for the next assignment I can have more Python under my belt and give it more time to understand what everything does"
   ]
  }
 ],
 "metadata": {
  "kernelspec": {
   "display_name": "Python 3.9.6 64-bit",
   "language": "python",
   "name": "python3"
  },
  "language_info": {
   "codemirror_mode": {
    "name": "ipython",
    "version": 3
   },
   "file_extension": ".py",
   "mimetype": "text/x-python",
   "name": "python",
   "nbconvert_exporter": "python",
   "pygments_lexer": "ipython3",
   "version": "3.9.6"
  },
  "orig_nbformat": 4,
  "vscode": {
   "interpreter": {
    "hash": "aee8b7b246df8f9039afb4144a1f6fd8d2ca17a180786b69acc140d282b71a49"
   }
  }
 },
 "nbformat": 4,
 "nbformat_minor": 2
}
