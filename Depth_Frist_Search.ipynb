{
 "cells": [
  {
   "cell_type": "code",
   "execution_count": 1,
   "metadata": {},
   "outputs": [],
   "source": [
    "from collections import defaultdict"
   ]
  },
  {
   "cell_type": "code",
   "execution_count": 2,
   "metadata": {},
   "outputs": [],
   "source": [
    "class Graph():\n",
    "    def __init__(self):\n",
    "        self.edges = {\n",
    "            'A' : ['B', 'C'],\n",
    "            'B' : ['D', 'E'],\n",
    "            'C' : ['F', 'H'],\n",
    "            'D' : ['I', 'J'],\n",
    "            'E' : ['G1', 'K'],\n",
    "            'F' : ['L', 'M'],\n",
    "            'H' : ['N', 'G2'],\n",
    "            'I' : ['D'],\n",
    "            'J' : ['D'],\n",
    "            'K' : ['E'],\n",
    "            'L' : ['F'],\n",
    "            'M' : ['F'],\n",
    "            'N' : ['H'],\n",
    "            'G1' : ['E'],\n",
    "            'G2' : ['H']}\n",
    "        \n",
    "    def add_edge(self, from_node, to_node):\n",
    "        self.edges[from_node].append(to_node)\n",
    "        self.edges[to_node].append(from_node)\n",
    "        "
   ]
  },
  {
   "cell_type": "code",
   "execution_count": 3,
   "metadata": {},
   "outputs": [],
   "source": []
  },
  {
   "cell_type": "code",
   "execution_count": 8,
   "metadata": {},
   "outputs": [],
   "source": [
    "parentDict = {\n",
    "    'A' : 'B',\n",
    "    'A' : 'C',\n",
    "    'B' : 'D',\n",
    "    'B' : 'E',\n",
    "    'D' : 'I',\n",
    "    'D' : 'J',\n",
    "    'E' : 'G1',\n",
    "    'E' : 'K',\n",
    "    'C' : 'F',\n",
    "    'C' : 'H',\n",
    "    'F' : 'L',\n",
    "    'F' : 'M',\n",
    "    'H' : 'N',\n",
    "    'H' : 'G2',\n",
    "}\n"
   ]
  },
  {
   "cell_type": "code",
   "execution_count": null,
   "metadata": {},
   "outputs": [],
   "source": []
  },
  {
   "cell_type": "code",
   "execution_count": 26,
   "metadata": {},
   "outputs": [],
   "source": [
    "def depthFirst(graph, initial, end):\n",
    "    current_node = initial\n",
    "    closed = []\n",
    "    open = []\n",
    "    children = []\n",
    "\n",
    "    open.append(initial)\n",
    "    current_node = open[0]\n",
    "\n",
    "    while current_node != end:\n",
    "        if len(open) > 0:\n",
    "            current_node = open[-1]\n",
    "            print(\"something\", closed)\n",
    "        \n",
    "        elif len(open) == 0:\n",
    "            print(\"wrong\", closed )\n",
    "            return \n",
    "        closed.append(current_node)\n",
    "        open.remove(current_node)\n",
    "        #\n",
    "        children = []\n",
    "        children = graph.edges[current_node]\n",
    "\n",
    "        for i in range(len(children[-1])):\n",
    "            if children[i] in closed:\n",
    "               children.remove(children[i])\n",
    "            elif children[i] in open:\n",
    "                children.remove(children[i])\n",
    "            else:\n",
    "                open.extend(children)\n",
    "\n",
    "        if current_node == end:\n",
    "            print(\"success! destination found\", closed)\n",
    "\n",
    "graph = Graph()\n",
    "\n",
    "\n"
   ]
  },
  {
   "cell_type": "code",
   "execution_count": 27,
   "metadata": {},
   "outputs": [
    {
     "name": "stdout",
     "output_type": "stream",
     "text": [
      "something []\n"
     ]
    },
    {
     "ename": "IndexError",
     "evalue": "list index out of range",
     "output_type": "error",
     "traceback": [
      "\u001b[0;31m---------------------------------------------------------------------------\u001b[0m",
      "\u001b[0;31mIndexError\u001b[0m                                Traceback (most recent call last)",
      "Cell \u001b[0;32mIn [27], line 1\u001b[0m\n\u001b[0;32m----> 1\u001b[0m \u001b[43mdepthFirst\u001b[49m\u001b[43m(\u001b[49m\u001b[43mgraph\u001b[49m\u001b[43m,\u001b[49m\u001b[43m \u001b[49m\u001b[38;5;124;43m'\u001b[39;49m\u001b[38;5;124;43mA\u001b[39;49m\u001b[38;5;124;43m'\u001b[39;49m\u001b[43m,\u001b[49m\u001b[43m \u001b[49m\u001b[38;5;124;43m'\u001b[39;49m\u001b[38;5;124;43mF\u001b[39;49m\u001b[38;5;124;43m'\u001b[39;49m\u001b[43m)\u001b[49m\n",
      "Cell \u001b[0;32mIn [26], line 24\u001b[0m, in \u001b[0;36mdepthFirst\u001b[0;34m(graph, initial, end)\u001b[0m\n\u001b[1;32m     21\u001b[0m children \u001b[38;5;241m=\u001b[39m []\n\u001b[1;32m     22\u001b[0m children \u001b[38;5;241m=\u001b[39m graph\u001b[38;5;241m.\u001b[39medges[current_node]\n\u001b[0;32m---> 24\u001b[0m \u001b[38;5;28;01mfor\u001b[39;00m i \u001b[38;5;129;01min\u001b[39;00m \u001b[38;5;28mrange\u001b[39m(\u001b[38;5;28mlen\u001b[39m(\u001b[43mchildren\u001b[49m\u001b[43m[\u001b[49m\u001b[38;5;241;43m-\u001b[39;49m\u001b[38;5;241;43m1\u001b[39;49m\u001b[43m]\u001b[49m)):\n\u001b[1;32m     25\u001b[0m     \u001b[38;5;28;01mif\u001b[39;00m children[i] \u001b[38;5;129;01min\u001b[39;00m closed:\n\u001b[1;32m     26\u001b[0m        children\u001b[38;5;241m.\u001b[39mremove(children[i])\n",
      "\u001b[0;31mIndexError\u001b[0m: list index out of range"
     ]
    }
   ],
   "source": [
    "depthFirst(graph, 'A', 'F')"
   ]
  },
  {
   "cell_type": "code",
   "execution_count": 28,
   "metadata": {},
   "outputs": [],
   "source": [
    "#This is the best I can do. Half of the the built in function I do not even know, but hopefully\n",
    "#I can learn more as I go. I hope to actually get an answer on the next assignment. "
   ]
  },
  {
   "cell_type": "code",
   "execution_count": null,
   "metadata": {},
   "outputs": [],
   "source": []
  }
 ],
 "metadata": {
  "kernelspec": {
   "display_name": "Python 3.9.6 64-bit",
   "language": "python",
   "name": "python3"
  },
  "language_info": {
   "codemirror_mode": {
    "name": "ipython",
    "version": 3
   },
   "file_extension": ".py",
   "mimetype": "text/x-python",
   "name": "python",
   "nbconvert_exporter": "python",
   "pygments_lexer": "ipython3",
   "version": "3.9.6"
  },
  "orig_nbformat": 4,
  "vscode": {
   "interpreter": {
    "hash": "aee8b7b246df8f9039afb4144a1f6fd8d2ca17a180786b69acc140d282b71a49"
   }
  }
 },
 "nbformat": 4,
 "nbformat_minor": 2
}
