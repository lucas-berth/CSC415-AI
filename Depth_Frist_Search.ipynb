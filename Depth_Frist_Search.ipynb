{
 "cells": [
  {
   "cell_type": "code",
   "execution_count": 1,
   "metadata": {},
   "outputs": [],
   "source": [
    "from collections import defaultdict"
   ]
  },
  {
   "cell_type": "code",
   "execution_count": 2,
   "metadata": {},
   "outputs": [],
   "source": [
    "graph = {\n",
    "    'A' : ['B', 'C'],\n",
    "    'B' : ['D', 'E'],\n",
    "    'C' : ['F', 'H'],\n",
    "    'D' : ['I', 'J'],\n",
    "    'E' : ['G1', 'K'],\n",
    "    'F' : ['L', 'M'],\n",
    "    'H' : ['N', 'G2'],\n",
    "    'I' : [],\n",
    "    'J' : [],\n",
    "    'K' : [],\n",
    "    'L' : [],\n",
    "    'M' : [],\n",
    "    'N' : [],\n",
    "    'G1' : [],\n",
    "    'G2' : []}\n",
    "        "
   ]
  },
  {
   "cell_type": "code",
   "execution_count": 26,
   "metadata": {},
   "outputs": [],
   "source": [
    "#more complicated version tried. Does not work really.\n",
    "def depthFirst(graph, initial, end):\n",
    "    current_node = initial\n",
    "    closed = []\n",
    "    open = []\n",
    "    children = []\n",
    "\n",
    "    open.append(initial)\n",
    "    current_node = open[0]\n",
    "\n",
    "    while current_node != end:\n",
    "        if len(open) > 0:\n",
    "            current_node = open[-1]\n",
    "            print(\"something\", closed)\n",
    "        \n",
    "        elif len(open) == 0:\n",
    "            print(\"wrong\", closed )\n",
    "            return \n",
    "        closed.append(current_node)\n",
    "        open.remove(current_node)\n",
    "        #\n",
    "        children = []\n",
    "        children = graph.edges[current_node]\n",
    "\n",
    "        for i in range(len(children[-1])):\n",
    "            if children[i] in closed:\n",
    "               children.remove(children[i])\n",
    "            elif children[i] in open:\n",
    "                children.remove(children[i])\n",
    "            else:\n",
    "                open.extend(children)\n",
    "\n",
    "        if current_node == end:\n",
    "            print(\"success! destination found\", closed)\n",
    "\n",
    "graph = Graph()\n",
    "\n",
    "\n"
   ]
  },
  {
   "cell_type": "code",
   "execution_count": null,
   "metadata": {},
   "outputs": [],
   "source": [
    "depthFirst(graph, 'A', 'F')\n",
    "#does not work "
   ]
  },
  {
   "cell_type": "code",
   "execution_count": 28,
   "metadata": {},
   "outputs": [],
   "source": [
    "#source found that makes the algo easy LINK = https://www.educative.io/answers/how-to-implement-depth-first-search-in-python"
   ]
  },
  {
   "cell_type": "code",
   "execution_count": 4,
   "metadata": {},
   "outputs": [],
   "source": [
    "visited = set() # Set to keep track of visited nodes.\n",
    "\n",
    "def dfs(visited, graph, node):\n",
    "    if node not in visited:\n",
    "        print (node)\n",
    "        visited.add(node)\n",
    "        for neighbour in graph[node]:\n",
    "            dfs(visited, graph, neighbour)"
   ]
  },
  {
   "cell_type": "code",
   "execution_count": 5,
   "metadata": {},
   "outputs": [
    {
     "name": "stdout",
     "output_type": "stream",
     "text": [
      "A\n",
      "B\n",
      "D\n",
      "I\n",
      "J\n",
      "E\n",
      "G1\n",
      "K\n",
      "C\n",
      "F\n",
      "L\n",
      "M\n",
      "H\n",
      "N\n",
      "G2\n"
     ]
    }
   ],
   "source": [
    "dfs(visited, graph, 'A')"
   ]
  }
 ],
 "metadata": {
  "kernelspec": {
   "display_name": "Python 3.9.6 64-bit",
   "language": "python",
   "name": "python3"
  },
  "language_info": {
   "codemirror_mode": {
    "name": "ipython",
    "version": 3
   },
   "file_extension": ".py",
   "mimetype": "text/x-python",
   "name": "python",
   "nbconvert_exporter": "python",
   "pygments_lexer": "ipython3",
   "version": "3.9.6"
  },
  "orig_nbformat": 4,
  "vscode": {
   "interpreter": {
    "hash": "aee8b7b246df8f9039afb4144a1f6fd8d2ca17a180786b69acc140d282b71a49"
   }
  }
 },
 "nbformat": 4,
 "nbformat_minor": 2
}
