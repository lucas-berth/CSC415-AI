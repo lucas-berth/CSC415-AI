{
 "cells": [
  {
   "cell_type": "code",
   "execution_count": 2,
   "metadata": {},
   "outputs": [],
   "source": [
    "from collections import defaultdict\n",
    "\n",
    "class Graph():\n",
    "    def __init__(self):\n",
    "        \"\"\"\n",
    "        self.edges is a dict of all possible next nodes\n",
    "        e.g. {'X': ['A', 'B', 'C', 'E'], ...}\n",
    "        self.weights has all the weights between two nodes,\n",
    "        with the two nodes as a tuple as the key\n",
    "        e.g. {('X', 'A'): 7, ('X', 'B'): 2, ...}\n",
    "        \"\"\"\n",
    "        self.edges = defaultdict(list)\n",
    "        self.weights = {}\n",
    "    \n",
    "    def add_edge(self, from_node, to_node, weight):\n",
    "        # Note: assumes edges are bi-directional\n",
    "        self.edges[from_node].append(to_node)\n",
    "        self.edges[to_node].append(from_node)\n",
    "        self.weights[(from_node, to_node)] = weight\n",
    "        self.weights[(to_node, from_node)] = weight"
   ]
  },
  {
   "cell_type": "code",
   "execution_count": 3,
   "metadata": {},
   "outputs": [],
   "source": [
    "graph = Graph()\n"
   ]
  },
  {
   "cell_type": "code",
   "execution_count": 37,
   "metadata": {},
   "outputs": [],
   "source": [
    "edges = [\n",
    "    ('X', 'A', 7),\n",
    "    ('X', 'B', 2),\n",
    "    ('X', 'C', 3),\n",
    "    ('X', 'E', 4),\n",
    "    ('A', 'B', 3),\n",
    "    ('A', 'D', 4),\n",
    "    ('B', 'D', 6),\n",
    "    ('B', 'H', 5),\n",
    "    ('C', 'L', 2),\n",
    "    ('D', 'F', 3),\n",
    "    ('F', 'H', 3),\n",
    "    ('G', 'H', 2),\n",
    "    ('G', 'Y', 2),\n",
    "    ('I', 'J', 6),\n",
    "    ('I', 'K', 4),\n",
    "    ('I', 'L', 4),\n",
    "    ('J', 'L', 1),\n",
    "    ('K', 'Y', 5),\n",
    "]\n",
    "for edge in edges:\n",
    "    graph.add_edge(*edge)"
   ]
  },
  {
   "cell_type": "code",
   "execution_count": 34,
   "metadata": {},
   "outputs": [],
   "source": [
    "def dijsktra(graph, initial, end):\n",
    "    # shortest paths is a dict of nodes\n",
    "    # whose value is a tuple of (previous node, weight)\n",
    "    shortest_paths = {initial: (None, 0)}\n",
    "    current_node = initial\n",
    "    visited = set()\n",
    "    \n",
    "    while current_node != end:\n",
    "        visited.add(current_node)\n",
    "        \n",
    "        destinations = graph.edges[current_node]\n",
    "        weight_to_current_node = shortest_paths[current_node][1]\n",
    "\n",
    "        for next_node in destinations:\n",
    "            weight = graph.weights[(current_node, next_node)] + weight_to_current_node\n",
    "            if next_node not in shortest_paths:\n",
    "                shortest_paths[next_node] = (current_node, weight)\n",
    "            else:\n",
    "                current_shortest_weight = shortest_paths[next_node][1]\n",
    "                if current_shortest_weight > weight:\n",
    "                    shortest_paths[next_node] = (current_node, weight)\n",
    "        print(current_node)\n",
    "        print(next_node)\n",
    "        next_destinations = {node: shortest_paths[node] for node in shortest_paths if node not in visited}\n",
    "        if not next_destinations:\n",
    "            return \"Route Not Possible\"\n",
    "        # next node is the destination with the lowest weight\n",
    "        current_node = min(next_destinations, key=lambda k: next_destinations[k][1])\n",
    "    \n",
    "    # Work back through destinations in shortest path\n",
    "    path = []\n",
    "    while current_node is not None:\n",
    "        path.append(current_node)\n",
    "        next_node = shortest_paths[current_node][0]\n",
    "        current_node = next_node\n",
    "    # Reverse path\n",
    "    path = path[::-1]\n",
    "    return path"
   ]
  },
  {
   "cell_type": "code",
   "execution_count": 35,
   "metadata": {},
   "outputs": [
    {
     "name": "stdout",
     "output_type": "stream",
     "text": [
      "X\n",
      "E\n",
      "B\n",
      "H\n",
      "C\n",
      "L\n",
      "E\n",
      "X\n",
      "A\n",
      "D\n",
      "L\n",
      "J\n",
      "D\n",
      "F\n",
      "J\n",
      "L\n",
      "H\n",
      "G\n",
      "F\n",
      "H\n",
      "I\n",
      "L\n",
      "G\n",
      "Y\n"
     ]
    },
    {
     "data": {
      "text/plain": [
       "['X', 'B', 'H', 'G', 'Y']"
      ]
     },
     "execution_count": 35,
     "metadata": {},
     "output_type": "execute_result"
    }
   ],
   "source": [
    "dijsktra(graph, 'X', 'Y')\n"
   ]
  },
  {
   "cell_type": "code",
   "execution_count": 36,
   "metadata": {},
   "outputs": [
    {
     "name": "stdout",
     "output_type": "stream",
     "text": [
      "X\n",
      "E\n",
      "B\n",
      "H\n",
      "C\n",
      "L\n",
      "E\n",
      "X\n",
      "A\n",
      "D\n",
      "L\n",
      "J\n",
      "D\n",
      "F\n",
      "J\n",
      "L\n",
      "H\n",
      "G\n"
     ]
    },
    {
     "data": {
      "text/plain": [
       "['X', 'B', 'D', 'F']"
      ]
     },
     "execution_count": 36,
     "metadata": {},
     "output_type": "execute_result"
    }
   ],
   "source": [
    "#a) find the shortest path from X to F\n",
    "dijsktra(graph, 'X', 'F')"
   ]
  },
  {
   "cell_type": "code",
   "execution_count": 38,
   "metadata": {},
   "outputs": [
    {
     "name": "stdout",
     "output_type": "stream",
     "text": [
      "X\n",
      "E\n",
      "B\n",
      "H\n",
      "C\n",
      "L\n",
      "E\n",
      "X\n",
      "A\n",
      "D\n",
      "L\n",
      "J\n",
      "J\n",
      "L\n",
      "H\n",
      "G\n",
      "D\n",
      "F\n",
      "I\n",
      "L\n",
      "G\n",
      "Y\n"
     ]
    },
    {
     "data": {
      "text/plain": [
       "['X', 'B', 'H', 'F']"
      ]
     },
     "execution_count": 38,
     "metadata": {},
     "output_type": "execute_result"
    }
   ],
   "source": [
    "#b) change B to D and D to F\n",
    "dijsktra(graph, 'X', 'F')\n"
   ]
  }
 ],
 "metadata": {
  "kernelspec": {
   "display_name": "Python 3.9.6 64-bit",
   "language": "python",
   "name": "python3"
  },
  "language_info": {
   "codemirror_mode": {
    "name": "ipython",
    "version": 3
   },
   "file_extension": ".py",
   "mimetype": "text/x-python",
   "name": "python",
   "nbconvert_exporter": "python",
   "pygments_lexer": "ipython3",
   "version": "3.9.6"
  },
  "orig_nbformat": 4,
  "vscode": {
   "interpreter": {
    "hash": "aee8b7b246df8f9039afb4144a1f6fd8d2ca17a180786b69acc140d282b71a49"
   }
  }
 },
 "nbformat": 4,
 "nbformat_minor": 2
}
